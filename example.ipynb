{
 "cells": [
  {
   "cell_type": "code",
   "execution_count": 1,
   "metadata": {},
   "outputs": [
    {
     "name": "stdout",
     "output_type": "stream",
     "text": [
      "env: ANYWIDGET_HMR=1\n"
     ]
    }
   ],
   "source": [
    "%load_ext autoreload\n",
    "%autoreload 2\n",
    "%env ANYWIDGET_HMR=1"
   ]
  },
  {
   "cell_type": "code",
   "execution_count": 3,
   "metadata": {},
   "outputs": [
    {
     "data": {
      "application/vnd.jupyter.widget-view+json": {
       "model_id": "9cd7950a75234837bc5cbab9630e11ec",
       "version_major": 2,
       "version_minor": 1
      },
      "text/plain": [
       "PyAutark(osmLayerTraitletInstance={'name': 'brooklyn', 'polygon': [[-74.006507414, 40.6963494934], [-74.026221…"
      ]
     },
     "execution_count": 3,
     "metadata": {},
     "output_type": "execute_result"
    }
   ],
   "source": [
    "import pyautark\n",
    "import json\n",
    "\n",
    "# Read GeoJSON file\n",
    "with open('../../Downloads/manhattan_test.json', 'r') as f:\n",
    "    geojson_data = json.load(f)\n",
    "\n",
    "brooklynPolygon = [\n",
    "        [-74.006507414, 40.6963494934],\n",
    "        [-74.0262219458, 40.7000278019],\n",
    "        [-74.0186055774, 40.7425129106],\n",
    "        [-73.9680946755, 40.7355983529],\n",
    "        [-73.9738489526, 40.7090665214],\n",
    "        [-73.9961058937, 40.7060225978],\n",
    "        [-74.006507414, 40.6963494934],\n",
    "      ]\n",
    "\n",
    "pyautark.render( \n",
    "    {\n",
    "        'name': 'brooklyn', \n",
    "        'polygon': brooklynPolygon, \n",
    "        'layers': ['coastline', 'parks', 'water', 'roads', 'buildings'] \n",
    "    })"
   ]
  }
 ],
 "metadata": {
  "kernelspec": {
   "display_name": "Python 3 (ipykernel)",
   "language": "python",
   "name": "python3"
  },
  "language_info": {
   "codemirror_mode": {
    "name": "ipython",
    "version": 3
   },
   "file_extension": ".py",
   "mimetype": "text/x-python",
   "name": "python",
   "nbconvert_exporter": "python",
   "pygments_lexer": "ipython3",
   "version": "3.12.11"
  }
 },
 "nbformat": 4,
 "nbformat_minor": 4
}
