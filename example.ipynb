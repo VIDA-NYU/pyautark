{
 "cells": [
  {
   "cell_type": "code",
   "execution_count": 1,
   "metadata": {},
   "outputs": [
    {
     "name": "stdout",
     "output_type": "stream",
     "text": [
      "env: ANYWIDGET_HMR=1\n"
     ]
    }
   ],
   "source": [
    "%load_ext autoreload\n",
    "%autoreload 2\n",
    "%env ANYWIDGET_HMR=1"
   ]
  },
  {
   "cell_type": "code",
   "execution_count": 2,
   "metadata": {},
   "outputs": [
    {
     "data": {
      "application/vnd.jupyter.widget-view+json": {
       "model_id": "3a4216ae9c5e4b11a6c96552653fdf1c",
       "version_major": 2,
       "version_minor": 1
      },
      "text/plain": [
       "PyAutark(osmLayerTraitletInstance={'name': 'brooklyn', 'polygon': [[-74.006507414, 40.6963494934], [-74.026221…"
      ]
     },
     "execution_count": 2,
     "metadata": {},
     "output_type": "execute_result"
    }
   ],
   "source": [
    "import pyautark\n",
    "import json\n",
    "\n",
    "# Read GeoJSON file\n",
    "with open('../../Downloads/manhattan_test.json', 'r') as f:\n",
    "    geojson_data = json.load(f)\n",
    "\n",
    "pyautark.render( \n",
    "    {\n",
    "        'name': 'brooklyn', \n",
    "        'polygon': brooklynPolygon, \n",
    "        'layers': ['coastline', 'parks', 'water', 'roads', 'buildings'] \n",
    "    })"
   ]
  }
 ],
 "metadata": {
  "kernelspec": {
   "display_name": "Python 3 (ipykernel)",
   "language": "python",
   "name": "python3"
  },
  "language_info": {
   "codemirror_mode": {
    "name": "ipython",
    "version": 3
   },
   "file_extension": ".py",
   "mimetype": "text/x-python",
   "name": "python",
   "nbconvert_exporter": "python",
   "pygments_lexer": "ipython3",
   "version": "3.12.11"
  }
 },
 "nbformat": 4,
 "nbformat_minor": 4
}
