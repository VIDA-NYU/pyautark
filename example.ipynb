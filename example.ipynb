{
 "cells": [
  {
   "cell_type": "code",
   "execution_count": 1,
   "metadata": {},
   "outputs": [
    {
     "name": "stdout",
     "output_type": "stream",
     "text": [
      "env: ANYWIDGET_HMR=1\n"
     ]
    }
   ],
   "source": [
    "%load_ext autoreload\n",
    "%autoreload 2\n",
    "%env ANYWIDGET_HMR=1"
   ]
  },
  {
   "cell_type": "code",
   "execution_count": 2,
   "metadata": {},
   "outputs": [],
   "source": [
    "# import pyautark\n",
    "import json\n",
    "from pyautark import Map"
   ]
  },
  {
   "cell_type": "code",
   "execution_count": 5,
   "metadata": {},
   "outputs": [],
   "source": [
    "## Niteroi\n",
    "# m.load_osm_layer(name='niteroi', boundingBox=[-43.149375, -22.920271, -43.070836, -22.856426], layer=['roads', 'parks', 'buildings'])\n",
    "import pandas as pd\n",
    "df = pd.read_csv('../autark/examples/public/data/taxi.csv')"
   ]
  },
  {
   "cell_type": "code",
   "execution_count": 6,
   "metadata": {},
   "outputs": [
    {
     "data": {
      "text/plain": [
       "(10000, 14)"
      ]
     },
     "execution_count": 6,
     "metadata": {},
     "output_type": "execute_result"
    }
   ],
   "source": [
    "df.shape"
   ]
  },
  {
   "cell_type": "code",
   "execution_count": 3,
   "metadata": {},
   "outputs": [
    {
     "data": {
      "application/vnd.jupyter.widget-view+json": {
       "model_id": "766e4172d7034bf28e76fce19a27a0af",
       "version_major": 2,
       "version_minor": 1
      },
      "text/plain": [
       "PyAutark(customLayerListTraitletInstance=[{'name': 'manhattan_roads', 'features': {'type': 'FeatureCollection'…"
      ]
     },
     "execution_count": 3,
     "metadata": {},
     "output_type": "execute_result"
    }
   ],
   "source": [
    "m = Map()\n",
    "\n",
    "## Manhattan\n",
    "m.load_osm_layer(name='manhattan', boundingBox=[-74.032126, 40.702989, -73.962483, 40.748791], layer=['parks', 'buildings'])\n",
    "\n",
    "## Custom Layer\n",
    "with open('../../Downloads/manhattan_test.json', 'r') as f:\n",
    "    geojson_data = json.load(f)\n",
    "m.load_custom_layer(name='manhattan_roads', features=geojson_data, featureType='lines')\n",
    "\n",
    "## Load thematic data\n",
    "m.load_thematic_data(name='taxi', path='../autark/examples/public/data/taxi.csv')\n",
    "\n",
    "m.render()"
   ]
  }
 ],
 "metadata": {
  "kernelspec": {
   "display_name": "Python 3 (ipykernel)",
   "language": "python",
   "name": "python3"
  },
  "language_info": {
   "codemirror_mode": {
    "name": "ipython",
    "version": 3
   },
   "file_extension": ".py",
   "mimetype": "text/x-python",
   "name": "python",
   "nbconvert_exporter": "python",
   "pygments_lexer": "ipython3",
   "version": "3.12.11"
  }
 },
 "nbformat": 4,
 "nbformat_minor": 4
}
