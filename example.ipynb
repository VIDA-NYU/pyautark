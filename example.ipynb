{
 "cells": [
  {
   "cell_type": "code",
   "execution_count": 1,
   "metadata": {},
   "outputs": [
    {
     "name": "stdout",
     "output_type": "stream",
     "text": [
      "env: ANYWIDGET_HMR=1\n"
     ]
    }
   ],
   "source": [
    "%load_ext autoreload\n",
    "%autoreload 2\n",
    "%env ANYWIDGET_HMR=1"
   ]
  },
  {
   "cell_type": "code",
   "execution_count": 2,
   "metadata": {},
   "outputs": [],
   "source": [
    "# import pyautark\n",
    "import json\n",
    "from pyautark import Map"
   ]
  },
  {
   "cell_type": "code",
   "execution_count": 8,
   "metadata": {},
   "outputs": [
    {
     "data": {
      "application/vnd.jupyter.widget-view+json": {
       "model_id": "3eb0af934d134165987a1d8804b17046",
       "version_major": 2,
       "version_minor": 1
      },
      "text/plain": [
       "PyAutark(osmLayerListTraitletInstance=[{'name': 'manhattan', 'boundingBox': [-74.032126, 40.702989, -73.962483…"
      ]
     },
     "execution_count": 8,
     "metadata": {},
     "output_type": "execute_result"
    }
   ],
   "source": [
    "m = Map()\n",
    "\n",
    "\n",
    "## Niteroi\n",
    "# m.load_osm_layer(name='niteroi', boundingBox=[-43.149375, -22.920271, -43.070836, -22.856426], layer=['roads', 'parks', 'buildings'])\n",
    "\n",
    "## Manhattan\n",
    "m.load_osm_layer(name='manhattan', boundingBox=[-74.032126, 40.702989, -73.962483, 40.748791], layer=['roads', 'parks', 'buildings'])\n",
    "\n",
    "## Brooklyn\n",
    "\n",
    "## Custom layer\n",
    "\n",
    "\n",
    "\n",
    "m.render()"
   ]
  },
  {
   "cell_type": "code",
   "execution_count": null,
   "metadata": {},
   "outputs": [],
   "source": []
  },
  {
   "cell_type": "code",
   "execution_count": 7,
   "metadata": {},
   "outputs": [
    {
     "data": {
      "application/vnd.jupyter.widget-view+json": {
       "model_id": "71f20179a7a04147acc037d674f85e62",
       "version_major": 2,
       "version_minor": 1
      },
      "text/plain": [
       "PyAutark(osmLayerTraitletInstance={'name': 'brooklyn', 'polygon': [[-74.006507414, 40.6963494934], [-74.026221…"
      ]
     },
     "execution_count": 7,
     "metadata": {},
     "output_type": "execute_result"
    }
   ],
   "source": [
    "\n",
    "\n",
    "# Read GeoJSON files\n",
    "with open('../../Downloads/manhattan_test.json', 'r') as f:\n",
    "    geojson_data = json.load(f)\n",
    "\n",
    "pyautark.render(\n",
    "    {\n",
    "        'name': 'brooklyn', \n",
    "        'polygon': downtownBrooklyn, \n",
    "        'layers': ['coastline', 'parks', 'water', 'roads', 'buildings']\n",
    "    })"
   ]
  }
 ],
 "metadata": {
  "kernelspec": {
   "display_name": "Python 3 (ipykernel)",
   "language": "python",
   "name": "python3"
  },
  "language_info": {
   "codemirror_mode": {
    "name": "ipython",
    "version": 3
   },
   "file_extension": ".py",
   "mimetype": "text/x-python",
   "name": "python",
   "nbconvert_exporter": "python",
   "pygments_lexer": "ipython3",
   "version": "3.12.11"
  }
 },
 "nbformat": 4,
 "nbformat_minor": 4
}
